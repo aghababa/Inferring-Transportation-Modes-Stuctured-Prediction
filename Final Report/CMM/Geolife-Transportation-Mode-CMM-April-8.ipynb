{
 "cells": [
  {
   "cell_type": "code",
   "execution_count": 3,
   "metadata": {
    "scrolled": true,
    "slideshow": {
     "slide_type": "-"
    }
   },
   "outputs": [],
   "source": [
    "import glob\n",
    "import numpy as np \n",
    "import time\n",
    "import math\n",
    "import random\n",
    "from scipy import linalg as LA\n",
    "import pandas as pd\n",
    "from sklearn.pipeline import make_pipeline\n",
    "from sklearn.preprocessing import StandardScaler\n",
    "from sklearn import svm\n",
    "from sklearn.svm import NuSVC\n",
    "from sklearn.model_selection import train_test_split\n",
    "from sklearn import metrics\n",
    "import seaborn as sns\n",
    "from sklearn.ensemble import AdaBoostClassifier\n",
    "from sklearn.svm import SVC\n",
    "from sklearn.ensemble import RandomForestClassifier\n",
    "from sklearn.tree import DecisionTreeClassifier\n",
    "from sklearn.neighbors import KNeighborsClassifier\n",
    "import statsmodels.api as sm\n",
    "import matplotlib.pyplot as plt\n",
    "from termcolor import colored\n",
    "from matplotlib import colors\n",
    "import pickle\n",
    "from datetime import datetime\n",
    "import os\n",
    "from sklearn.svm import LinearSVC\n",
    "from hmmlearn import hmm\n",
    "from pprint import pprint "
   ]
  },
  {
   "cell_type": "markdown",
   "metadata": {},
   "source": [
    "## Reading cleaned csv files"
   ]
  },
  {
   "cell_type": "markdown",
   "metadata": {},
   "source": [
    "### User i is data_1$[i]$ in the following"
   ]
  },
  {
   "cell_type": "code",
   "execution_count": 4,
   "metadata": {},
   "outputs": [],
   "source": [
    "data_1 = [0] * 57\n",
    "for i in range(len(data_1)):\n",
    "    fnames = glob.glob('labeled csv Geolife/'+str(i)+'/*.csv')\n",
    "    data_1[i] = np.array([np.loadtxt(f, delimiter=',')[1:] for f in fnames])\n",
    "data_1 = np.array(data_1)"
   ]
  },
  {
   "cell_type": "code",
   "execution_count": 5,
   "metadata": {},
   "outputs": [
    {
     "data": {
      "text/plain": [
       "3572"
      ]
     },
     "execution_count": 5,
     "metadata": {},
     "output_type": "execute_result"
    }
   ],
   "source": [
    "fnames = glob.glob('labeled csv Geolife/**/*.csv')\n",
    "len(fnames)"
   ]
  },
  {
   "cell_type": "markdown",
   "metadata": {},
   "source": [
    "### Users are stacked together in data_2 below"
   ]
  },
  {
   "cell_type": "code",
   "execution_count": 6,
   "metadata": {},
   "outputs": [],
   "source": [
    "data_2 = []\n",
    "fnames = glob.glob('labeled csv Geolife/**/*.csv')\n",
    "for f in fnames:\n",
    "    data_2.append(np.loadtxt(f, delimiter=',')[1:])\n",
    "data_2 = np.array(data_2)"
   ]
  },
  {
   "cell_type": "code",
   "execution_count": 7,
   "metadata": {},
   "outputs": [
    {
     "data": {
      "text/plain": [
       "(3, 40392)"
      ]
     },
     "execution_count": 7,
     "metadata": {},
     "output_type": "execute_result"
    }
   ],
   "source": [
    "A = np.array([len(data_2[i]) for i in range(len(data_2))])\n",
    "min(A), max(A)"
   ]
  },
  {
   "cell_type": "markdown",
   "metadata": {},
   "source": [
    "### Removing segments with length less than 1e-10 because of numerical precision"
   ]
  },
  {
   "cell_type": "code",
   "execution_count": 8,
   "metadata": {},
   "outputs": [
    {
     "data": {
      "text/plain": [
       "3182"
      ]
     },
     "execution_count": 8,
     "metadata": {},
     "output_type": "execute_result"
    }
   ],
   "source": [
    "data_3 = [0] * len(data_2)\n",
    "h = 1e-10\n",
    "c = 0\n",
    "for i in range(len(data_2)):\n",
    "    p1 = data_2[i][:-1]\n",
    "    p2 = data_2[i][1:]\n",
    "    L = ((p2[:,:2]-p1[:,:2])*(p2[:,:2]-p1[:,:2])).sum(axis =1)\n",
    "    I = np.where(L > h)[0]\n",
    "    J = np.where(L < h)[0]\n",
    "    if len(J) > 0:\n",
    "        c += 1\n",
    "    p1 = p1[I]\n",
    "    p2 = p2[I]\n",
    "    if len(I) == 0:\n",
    "        print(i)\n",
    "    gamma = np.concatenate((p1, p2[-1].reshape(1,4)), 0) \n",
    "    if len(gamma) > 0:\n",
    "        data_3[i] = gamma\n",
    "    data_3[i] = np.array(data_3[i])\n",
    "data_3 = np.array(data_3)\n",
    "c"
   ]
  },
  {
   "cell_type": "code",
   "execution_count": 9,
   "metadata": {},
   "outputs": [
    {
     "data": {
      "text/plain": [
       "(2, 40323, array([1380]))"
      ]
     },
     "execution_count": 9,
     "metadata": {},
     "output_type": "execute_result"
    }
   ],
   "source": [
    "A = np.array([len(data_3[i]) for i in range(len(data_3))])\n",
    "min(A), max(A), np.where(A > 40000)[0]"
   ]
  },
  {
   "cell_type": "markdown",
   "metadata": {},
   "source": [
    "# Partitioning trajectories to less than 20 minutes long"
   ]
  },
  {
   "cell_type": "code",
   "execution_count": 10,
   "metadata": {},
   "outputs": [
    {
     "data": {
      "text/plain": [
       "(0.08333337376825511, 2085.283333301777, (array([2940]),))"
      ]
     },
     "execution_count": 10,
     "metadata": {},
     "output_type": "execute_result"
    }
   ],
   "source": [
    "# 24 * 60 * (days_date('1899/12/30 2:50:06') - days_date('1899/12/30 2:20:06')) == 20 min\n",
    "Time = np.zeros(len(data_3))\n",
    "for i in range(len(data_3)):\n",
    "    Time[i] = 24 * 60 * sum(data_3[i][:,2][1:] - data_3[i][:,2][:-1]) # = 20 minutes \n",
    "min(Time), max(Time), np.where(Time>2000)"
   ]
  },
  {
   "cell_type": "code",
   "execution_count": 11,
   "metadata": {},
   "outputs": [
    {
     "data": {
      "text/plain": [
       "2365"
      ]
     },
     "execution_count": 11,
     "metadata": {},
     "output_type": "execute_result"
    }
   ],
   "source": [
    "J = np.where(Time>20)[0]\n",
    "len(J)"
   ]
  },
  {
   "cell_type": "code",
   "execution_count": 12,
   "metadata": {},
   "outputs": [],
   "source": [
    "def partition(trajectory):\n",
    "    trajectories = []\n",
    "    a = 24 * 60 * sum(trajectory[:,2][1:] - trajectory[:,2][:-1])\n",
    "    if a <= 20:\n",
    "        return np.array(trajectory.reshape(1, len(trajectory), 4))\n",
    "    else: \n",
    "        i = 0\n",
    "        while a > 20:\n",
    "            j = i + 0\n",
    "            val = 0\n",
    "            while val < 20: \n",
    "                if i < len(trajectory) - 1:\n",
    "                    temp = val + 0\n",
    "                    val += 24 * 60 * (trajectory[:,2][1:][i] - trajectory[:,2][:-1][i])\n",
    "                    i += 1\n",
    "                else: \n",
    "                    break\n",
    "            if len(trajectory[j:i-1]) > 0:\n",
    "                trajectories.append(trajectory[j:i-1])\n",
    "            a = a - val\n",
    "        if len(trajectory[i:]) > 0:\n",
    "            trajectories.append(trajectory[i:])\n",
    "    return trajectories"
   ]
  },
  {
   "cell_type": "code",
   "execution_count": 13,
   "metadata": {},
   "outputs": [],
   "source": [
    "# Check to see if partitioning into less than 20 minutes worked correctly\n",
    "for j in J:\n",
    "    A = partition(data_3[j])\n",
    "    B = np.array([24 * 60 * sum(A[i][:,2][1:] - A[i][:,2][:-1]) for i in range(len(A))])\n",
    "    I = np.where(B > 20)[0]\n",
    "    if len(I) > 0: \n",
    "        print(j)"
   ]
  },
  {
   "cell_type": "markdown",
   "metadata": {},
   "source": [
    "### data_4 below is the array of trajectories having less than 20 minutes long"
   ]
  },
  {
   "cell_type": "code",
   "execution_count": 14,
   "metadata": {},
   "outputs": [],
   "source": [
    "data_4 = []\n",
    "for i in range(len(data_3)):\n",
    "    A = partition(data_3[i])\n",
    "    for j in range(len(A)):\n",
    "        data_4.append(A[j])\n",
    "data_4 = np.array(data_4)"
   ]
  },
  {
   "cell_type": "code",
   "execution_count": 15,
   "metadata": {},
   "outputs": [
    {
     "data": {
      "text/plain": [
       "((11833,), (360, 4))"
      ]
     },
     "execution_count": 15,
     "metadata": {},
     "output_type": "execute_result"
    }
   ],
   "source": [
    "data_4.shape, data_4[0].shape"
   ]
  },
  {
   "cell_type": "code",
   "execution_count": 16,
   "metadata": {},
   "outputs": [
    {
     "data": {
      "text/plain": [
       "11751"
      ]
     },
     "execution_count": 16,
     "metadata": {},
     "output_type": "execute_result"
    }
   ],
   "source": [
    "I = np.where(np.array([len(data_4[i]) for i in range(len(data_4))]) != 1)[0]\n",
    "data_4 = data_4[I]\n",
    "len(data_4)"
   ]
  },
  {
   "cell_type": "code",
   "execution_count": 17,
   "metadata": {},
   "outputs": [
    {
     "data": {
      "text/plain": [
       "10039"
      ]
     },
     "execution_count": 17,
     "metadata": {},
     "output_type": "execute_result"
    }
   ],
   "source": [
    "int1 = np.vectorize(int)\n",
    "data_5 = []\n",
    "c = 0\n",
    "for i in range(len(data_4)):\n",
    "    if len(set(int1(data_4[i][:,3]))) < 2: \n",
    "        data_5.append(data_4[i])\n",
    "        c += 1\n",
    "data_5 = np.array(data_5)\n",
    "c"
   ]
  },
  {
   "cell_type": "code",
   "execution_count": 18,
   "metadata": {},
   "outputs": [
    {
     "data": {
      "text/plain": [
       "1671"
      ]
     },
     "execution_count": 18,
     "metadata": {},
     "output_type": "execute_result"
    }
   ],
   "source": [
    "data_6 = []\n",
    "d = 0\n",
    "for i in range(len(data_4)):\n",
    "    if len(set(int1(data_4[i][:,3]))) == 2: \n",
    "        data_6.append(data_4[i])\n",
    "        d += 1\n",
    "data_6 = np.array(data_6)\n",
    "d"
   ]
  },
  {
   "cell_type": "code",
   "execution_count": 19,
   "metadata": {},
   "outputs": [],
   "source": [
    "# a:b\n",
    "# a is the number of labels in a trajectory\n",
    "# b is the number of trajectries with a labels\n",
    "D = {1:10121, 2:1671, 3:39, 4:2, 5:0}"
   ]
  },
  {
   "cell_type": "code",
   "execution_count": 20,
   "metadata": {},
   "outputs": [],
   "source": [
    "Modes = ['walk', 'bike', 'bus', 'driving', 'train']"
   ]
  },
  {
   "cell_type": "code",
   "execution_count": 21,
   "metadata": {},
   "outputs": [
    {
     "name": "stdout",
     "output_type": "stream",
     "text": [
      "number of trajectories of length 1 with label 0, 1, 2, 3, 4: [3383, 1650, 1929, 2214, 863]\n"
     ]
    }
   ],
   "source": [
    "C = []\n",
    "for j in range(5):\n",
    "    c = 0\n",
    "    for i in range(len(data_5)):\n",
    "        if data_5[i][0][-1] == j:\n",
    "            c += 1\n",
    "    C.append(c)\n",
    "print(\"number of trajectories of length 1 with label 0, 1, 2, 3, 4:\", C)"
   ]
  },
  {
   "cell_type": "markdown",
   "metadata": {},
   "source": [
    "# Creating trajectories with 3, 4, 5 labels"
   ]
  },
  {
   "cell_type": "markdown",
   "metadata": {},
   "source": [
    "### Preparing length 2 sentences"
   ]
  },
  {
   "cell_type": "code",
   "execution_count": 22,
   "metadata": {},
   "outputs": [
    {
     "data": {
      "text/plain": [
       "(1671, 2)"
      ]
     },
     "execution_count": 22,
     "metadata": {},
     "output_type": "execute_result"
    }
   ],
   "source": [
    "data_7 = [0] * len(data_6)\n",
    "for i in range(len(data_6)):\n",
    "    I = list(set(data_6[i][:,3]))\n",
    "    data_7[i] = []\n",
    "    J1 = np.where(data_6[i][:,3] == I[0])\n",
    "    J2 = np.where(data_6[i][:,3] == I[1])\n",
    "    D1 = data_6[i][J1]\n",
    "    D2 = data_6[i][J2]\n",
    "    data_7[i].append(D1)\n",
    "    data_7[i].append(D2)\n",
    "data_7 = np.array(data_7)\n",
    "data_7.shape"
   ]
  },
  {
   "cell_type": "markdown",
   "metadata": {},
   "source": [
    "### Creating sentences of length 3, 4, 5 from 10039 length 1 trajectories"
   ]
  },
  {
   "cell_type": "code",
   "execution_count": 23,
   "metadata": {},
   "outputs": [
    {
     "data": {
      "text/plain": [
       "(5400,)"
      ]
     },
     "execution_count": 23,
     "metadata": {},
     "output_type": "execute_result"
    }
   ],
   "source": [
    "data = []\n",
    "\n",
    "n_1 = 1000 # number of length 1 sentences\n",
    "n_2 = 1000 # len(data_7)# 1671: number of length 2 sentences\n",
    "n_3 = 800 # number of length 3 sentences\n",
    "n_4 = 700 # number of length 4 sentences\n",
    "n_5 = 1900 # number of length 5 sentences\n",
    "\n",
    "for i in range(n_1):\n",
    "    I = np.random.randint(0, 10039, size=1)\n",
    "    data.append(data_5[I])\n",
    "    \n",
    "for i in range(n_2): \n",
    "    data.append(data_7[i])\n",
    "\n",
    "for i in range(n_3):\n",
    "    I = np.random.randint(0, 10039, size=3)\n",
    "    data.append(data_5[I])\n",
    "\n",
    "for i in range(n_4):\n",
    "    I = np.random.randint(0, 10039, size=4)\n",
    "    data.append(data_5[I])\n",
    "    \n",
    "for i in range(n_5):\n",
    "    I = np.random.randint(0, 10039, size=5)\n",
    "    data.append(data_5[I])\n",
    "    \n",
    "data = np.array(data)\n",
    "data.shape"
   ]
  },
  {
   "cell_type": "markdown",
   "metadata": {},
   "source": [
    "### Length of sentences"
   ]
  },
  {
   "cell_type": "code",
   "execution_count": 24,
   "metadata": {},
   "outputs": [
    {
     "name": "stdout",
     "output_type": "stream",
     "text": [
      "(1,) (2,) (3,) (4,) (5,)\n"
     ]
    }
   ],
   "source": [
    "print(data[0].shape, data[n_1].shape, data[n_1+n_2].shape, data[n_1+n_2+n_3].shape, \n",
    "      data[n_1+n_2+n_3+n_4].shape)"
   ]
  },
  {
   "cell_type": "markdown",
   "metadata": {},
   "source": [
    "# Functions needed for CMM"
   ]
  },
  {
   "cell_type": "markdown",
   "metadata": {},
   "source": [
    "### Feature Mappings"
   ]
  },
  {
   "cell_type": "markdown",
   "metadata": {
    "raw_mimetype": "text/x-python"
   },
   "source": [
    "$x = (x_1, x_2, \\ldots, x_n)$\n",
    "\n",
    "$y = (y_1, y_2, \\ldots, y_n) \\in \\{0,1,2,3,4\\}^n$\n",
    "\n",
    "If $x_i = [(a_0, b_0, t_0), \\ldots, (a_m, b_m, t_m)]$, where $a_j$ is latitude, $b_j$ is longitude and $t_j$ is time, then \n",
    "$$\\displaystyle \\text{length}_i = \\frac{1}{m} \\sum_{j=1}^m \\|(a_j, b_j) - (a_{j-1}, b_{j-1})\\|_2,$$\n",
    "$$\\text{velocity}_i = \\frac{1}{m} \\sum_{j=1}^m \\frac{\\|(a_j, b_j) - (a_{j-1}, b_{j-1})\\|_2}{t_j},$$\n",
    "$$\\text{acceleration}_i = \\frac{1}{m} \\sum_{j=1}^m \\frac{\\|(a_j, b_j) - (a_{j-1}, b_{j-1})\\|_2}{t_j^2}.$$\n",
    "\n",
    "#Notice: I have divded the acceleration by 1e10 for all data. \n",
    "\n",
    "### $\\phi_1(x, y) = (\\text{length}_i, \\text{velocity}_i, \\text{acceleration}_i, y_i)_{i=1}^n \\in \\mathbb{R}^{4n}$\n",
    "\n",
    "### $\\phi_2(x, y) = (\\text{start point}_i, \\text{end point}_i, \\text{length}_i, \\text{velocity}_i, \\text{acceleration}_i, y_i)_{i=1}^n \\in \\mathbb{R}^{8n}$"
   ]
  },
  {
   "cell_type": "markdown",
   "metadata": {},
   "source": [
    "### Feature Mapping $\\phi_1$"
   ]
  },
  {
   "cell_type": "code",
   "execution_count": 23,
   "metadata": {},
   "outputs": [],
   "source": [
    "def featureMapping1(data):\n",
    "    Data = [0] * len(data)\n",
    "    for i in range(len(data)):\n",
    "        Data[i] = []\n",
    "        for j in range(len(data[i])):\n",
    "            D = data[i][j]\n",
    "            segments = D[:,:2][1:] - D[:,:2][:-1]\n",
    "            segments_lengths = np.sqrt(np.sum((segments)**2, 1))\n",
    "            I = np.where(segments_lengths > 1e-8)\n",
    "            D = D[I]\n",
    "            if len(D) > 1:\n",
    "                segments = D[:,:2][1:] - D[:,:2][:-1]\n",
    "                segments_lengths = np.sqrt(np.sum((segments)**2, 1))\n",
    "                length = np.sum(segments_lengths)/len(D) + 1e-10\n",
    "                time = D[:,2][1:] - D[:,2][:-1] + 1e-10\n",
    "                velocities = segments_lengths/time\n",
    "                velocity = np.mean(velocities)\n",
    "                accelerations = segments_lengths/time**2\n",
    "                acceleration = np.mean(accelerations)/1e10\n",
    "                y = D[0][-1]\n",
    "                array = np.array([length, velocity, acceleration, y])\n",
    "                Data[i].append(array)\n",
    "        Data[i] = np.array(Data[i])\n",
    "\n",
    "    Data = np.array(Data)\n",
    "    K = np.array([len(Data[i]) for i in range(len(Data))])\n",
    "    J = np.where(K > 0)\n",
    "    Data = Data[J]\n",
    "    return Data"
   ]
  },
  {
   "cell_type": "markdown",
   "metadata": {},
   "source": [
    "### Feature Mapping $\\phi_2$"
   ]
  },
  {
   "cell_type": "code",
   "execution_count": 24,
   "metadata": {},
   "outputs": [],
   "source": [
    "def featureMapping2(data):\n",
    "    Data = [0] * len(data)\n",
    "    for i in range(len(data)):\n",
    "        Data[i] = []\n",
    "        for j in range(len(data[i])):\n",
    "            D = data[i][j]\n",
    "            segments = D[:,:2][1:] - D[:,:2][:-1]\n",
    "            segments_lengths = np.sqrt(np.sum((segments)**2, 1))\n",
    "            I = np.where(segments_lengths > 1e-8)\n",
    "            D = D[I]\n",
    "            if len(D) > 1:\n",
    "                segments = D[:,:2][1:] - D[:,:2][:-1]\n",
    "                segments_lengths = np.sqrt(np.sum((segments)**2, 1))\n",
    "                length = np.sum(segments_lengths)/len(D) + 1e-10\n",
    "                time = D[:,2][1:] - D[:,2][:-1] + 1e-10\n",
    "                velocities = segments_lengths/time\n",
    "                velocity = np.mean(velocities)\n",
    "                accelerations = segments_lengths/time**2\n",
    "                acceleration = np.mean(accelerations)/1e10\n",
    "                y = D[0][-1]\n",
    "                array = np.array([length, velocity, acceleration, \n",
    "                                  D[0][0], D[0][1], D[-1][0], D[-1][1], y])\n",
    "                Data[i].append(array)\n",
    "        Data[i] = np.array(Data[i])\n",
    "\n",
    "    Data = np.array(Data)\n",
    "    K = np.array([len(Data[i]) for i in range(len(Data))])\n",
    "    J = np.where(K > 0)\n",
    "    Data = Data[J]\n",
    "    return(Data)"
   ]
  },
  {
   "cell_type": "markdown",
   "metadata": {},
   "source": [
    "# Feature mapping using landmarks\n",
    "\n",
    "$x = (x_1, x_2, \\ldots, x_n)$\n",
    "\n",
    "$y = (y_1, y_2, \\ldots, y_n) \\in \\{0,1,2,3,4\\}^n$\n",
    "\n",
    "If $x_i = [(a_0, b_0, t_0), \\ldots, (a_m, b_m, t_m)]$, where $a_j$ is latitude, $b_j$ is longitude and $t_j$ is time, then \n",
    "$$\\displaystyle \\text{length}_i = \\frac{1}{m} \\sum_{j=1}^m \\|(a_j, b_j) - (a_{j-1}, b_{j-1})\\|_2,$$\n",
    "$$\\text{velocity}_i = \\frac{1}{m} \\sum_{j=1}^m \\frac{\\|(a_j, b_j) - (a_{j-1}, b_{j-1})\\|_2}{t_j},$$\n",
    "$$\\text{acceleration}_i = \\frac{1}{m} \\sum_{j=1}^m \\frac{\\|(a_j, b_j) - (a_{j-1}, b_{j-1})\\|_2}{t_j^2}.$$\n",
    "\n",
    "#Notice: I have divded the acceleration by 1e10 for all data. \n",
    "\n",
    "#### Now we would like to use a feature mapping introduced in the following paper:\n",
    "\n",
    "``Jeff M. Phillips and Pingfan Tang. Simple distances for trajectories via landmarks. In ACM GIS SIGSPATIAL, 2019.''\n",
    "\n",
    "Following the paper, let $q \\in \\mathbb{R}^2$ be a landmark and $\\gamma$ be a trajectory in $\\mathbb{R}^2$. We define \n",
    "$$v_q(\\gamma) = {\\rm dist}(\\gamma, q) = min_{p \\in \\gamma} \\|q - p\\|_2.$$\n",
    "\n",
    "We randomly choose $m$ (here $m=20$ will be used) landmaks in $\\mathbb{R}^2$ around trajectories and call them $Q$, so $Q=\\{q_1, q_2, \\ldots, q_m\\}$. Then we define the feature mapping $v_Q$ by \n",
    "$$v_Q(\\gamma) = (v_{q_1}(\\gamma), v_{q_2}(\\gamma), \\ldots, v_{q_m}(\\gamma)) \\in \\mathbb{R}^m.$$\n",
    "\n",
    "Then we combine this feature mapping with $\\phi_1$ and $\\phi_2$ to get the following feature mappings:\n",
    "\n",
    "### $\\phi_3(x, y) = (v_Q(x_i), y_i)_{i=1}^n \\in \\mathbb{R}^{(m+1)n}$\n",
    "\n",
    "### $\\phi_4(x, y) = (v_Q(x_i), \\text{length}_i, \\text{velocity}_i, \\text{acceleration}_i, y_i)_{i=1}^n \\in \\mathbb{R}^{(m+4)n}$\n",
    "\n",
    "### $\\phi_5(x, y) = (v_Q(x_i), \\text{start point}_i, \\text{end point}_i, \\text{length}_i, \\text{velocity}_i, \\text{acceleration}_i, y_i)_{i=1}^n \\in \\mathbb{R}^{(m+8)n}$"
   ]
  },
  {
   "cell_type": "markdown",
   "metadata": {},
   "source": [
    "### Landmark Feature Mapping $v_Q$"
   ]
  },
  {
   "cell_type": "code",
   "execution_count": 25,
   "metadata": {},
   "outputs": [],
   "source": [
    "def featureMap_v_Q(Q, gamma):\n",
    "    \n",
    "    p2 = gamma[1:]\n",
    "    p1 = gamma[:-1]\n",
    "    L = np.sqrt(((p2-p1)*(p2-p1)).sum(axis =1))\n",
    "    II = np.where(L>10e-8)[0]\n",
    "    L = L[II]\n",
    "    p1 = p1[II]\n",
    "    p2 = p2[II]\n",
    "    w = (p1-p2)*(-1,1)/(L*np.ones((2,1))).T\n",
    "    w[:,[0, 1]] = w[:,[1, 0]]\n",
    "    \n",
    "    dist_dot = np.sum(w * (Q.reshape(len(Q),1,2) - p1), axis=2)\n",
    "    \n",
    "    x = abs(dist_dot.copy())\n",
    "    R = (L**2).reshape(-1,1)\n",
    "    u = p1 + ((((np.sum(((Q.reshape(len(Q),1,2) - p1) * (p2 - p1)),axis=2).reshape(len(Q)\n",
    "                ,-1,1,1) * (p2-p1).reshape(len(p2-p1),1,2))).reshape(len(Q),len(p1),2))/R)\n",
    "    \n",
    "    G = np.sqrt(np.sum((u-p1)*(u-p1), axis=2))\n",
    "    H = np.sqrt(np.sum((u-p2)*(u-p2), axis=2))\n",
    "    d1 = np.sqrt(np.sum((Q.reshape(len(Q),1,2)-p1)*(Q.reshape(len(Q),1,2)-p1), axis=2))\n",
    "    d2 = np.sqrt(np.sum((Q.reshape(len(Q),1,2)-p2)*(Q.reshape(len(Q),1,2)-p2), axis=2))\n",
    "\n",
    "    dist = np.where(abs(G + H - L) < np.ones(len(L)) * (10e-8), x, np.minimum(d1, d2))\n",
    "\n",
    "    j = np.argmin(dist, axis =1)\n",
    "    dist_weighted = dist[np.arange(len(dist)),j]\n",
    "    \n",
    "    return dist_weighted.reshape(len(Q))"
   ]
  },
  {
   "cell_type": "markdown",
   "metadata": {},
   "source": [
    "### FeatureMapping3"
   ]
  },
  {
   "cell_type": "code",
   "execution_count": 60,
   "metadata": {},
   "outputs": [],
   "source": [
    "def featureMapping3(data, Q):\n",
    "    Data = [0] * len(data)\n",
    "    for i in range(len(data)):\n",
    "        Data[i] = []\n",
    "        for j in range(len(data[i])):\n",
    "            D = data[i][j]\n",
    "            segments = D[:,:2][1:] - D[:,:2][:-1]\n",
    "            segments_lengths = np.sqrt(np.sum((segments)**2, 1))\n",
    "            I = np.where(segments_lengths > 1e-8)\n",
    "            D = D[I]\n",
    "            if len(D) > 1:\n",
    "                segments = D[:,:2][1:] - D[:,:2][:-1]\n",
    "                segments_lengths = np.sqrt(np.sum((segments)**2, 1))\n",
    "                length = np.sum(segments_lengths)/len(D) + 1e-10\n",
    "                time = D[:,2][1:] - D[:,2][:-1] + 1e-10\n",
    "                velocities = segments_lengths/time\n",
    "                velocity = np.mean(velocities)\n",
    "                accelerations = segments_lengths/time**2\n",
    "                acceleration = np.mean(accelerations)/1e10\n",
    "                y = D[0][-1]\n",
    "                array_vel_acc = np.array([y])\n",
    "                mapped_v_Q_D = featureMap_v_Q(Q, D[:,:2])\n",
    "                array = np.concatenate((mapped_v_Q_D, array_vel_acc), 0)\n",
    "                Data[i].append(array)\n",
    "        Data[i] = np.array(Data[i])\n",
    "\n",
    "    Data = np.array(Data)\n",
    "    K = np.array([len(Data[i]) for i in range(len(Data))])\n",
    "    J = np.where(K > 0)\n",
    "    Data = Data[J]\n",
    "    return Data"
   ]
  },
  {
   "cell_type": "markdown",
   "metadata": {},
   "source": [
    "### Feature mapping composed of $v_Q$ and featureMapping1"
   ]
  },
  {
   "cell_type": "code",
   "execution_count": 61,
   "metadata": {},
   "outputs": [],
   "source": [
    "def featureMapping4(data, Q):\n",
    "    Data = [0] * len(data)\n",
    "    for i in range(len(data)):\n",
    "        Data[i] = []\n",
    "        for j in range(len(data[i])):\n",
    "            D = data[i][j]\n",
    "            segments = D[:,:2][1:] - D[:,:2][:-1]\n",
    "            segments_lengths = np.sqrt(np.sum((segments)**2, 1))\n",
    "            I = np.where(segments_lengths > 1e-8)\n",
    "            D = D[I]\n",
    "            if len(D) > 1:\n",
    "                segments = D[:,:2][1:] - D[:,:2][:-1]\n",
    "                segments_lengths = np.sqrt(np.sum((segments)**2, 1))\n",
    "                length = np.sum(segments_lengths)/len(D) + 1e-10\n",
    "                time = D[:,2][1:] - D[:,2][:-1] + 1e-10\n",
    "                velocities = segments_lengths/time\n",
    "                velocity = np.mean(velocities)\n",
    "                accelerations = segments_lengths/time**2\n",
    "                acceleration = np.mean(accelerations)/1e10\n",
    "                y = D[0][-1]\n",
    "                array_vel_acc = np.array([length, velocity, acceleration, y])\n",
    "                mapped_v_Q_D = featureMap_v_Q(Q, D[:,:2])\n",
    "                array = np.concatenate((mapped_v_Q_D, array_vel_acc), 0)\n",
    "                Data[i].append(array)\n",
    "        Data[i] = np.array(Data[i])\n",
    "\n",
    "    Data = np.array(Data)\n",
    "    K = np.array([len(Data[i]) for i in range(len(Data))])\n",
    "    J = np.where(K > 0)\n",
    "    Data = Data[J]\n",
    "    return Data"
   ]
  },
  {
   "cell_type": "markdown",
   "metadata": {},
   "source": [
    "### Feature mapping composed of $v_Q$ and featureMapping2"
   ]
  },
  {
   "cell_type": "code",
   "execution_count": 62,
   "metadata": {},
   "outputs": [],
   "source": [
    "def featureMapping5(data, Q):\n",
    "    Data = [0] * len(data)\n",
    "    for i in range(len(data)):\n",
    "        Data[i] = []\n",
    "        for j in range(len(data[i])):\n",
    "            D = data[i][j]\n",
    "            segments = D[:,:2][1:] - D[:,:2][:-1]\n",
    "            segments_lengths = np.sqrt(np.sum((segments)**2, 1))\n",
    "            I = np.where(segments_lengths > 1e-8)\n",
    "            D = D[I]\n",
    "            if len(D) > 1:\n",
    "                segments = D[:,:2][1:] - D[:,:2][:-1]\n",
    "                segments_lengths = np.sqrt(np.sum((segments)**2, 1))\n",
    "                length = np.sum(segments_lengths)/len(D) + 1e-10\n",
    "                time = D[:,2][1:] - D[:,2][:-1] + 1e-10\n",
    "                velocities = segments_lengths/time\n",
    "                velocity = np.mean(velocities)\n",
    "                accelerations = segments_lengths/time**2\n",
    "                acceleration = np.mean(accelerations)/1e10\n",
    "                y = D[0][-1]\n",
    "                array_vel_acc = np.array([length, velocity, acceleration, \n",
    "                                  D[0][0], D[0][1], D[-1][0], D[-1][1], y])\n",
    "                mapped_v_Q_D = featureMap_v_Q(Q, D[:,:2])\n",
    "                array = np.concatenate((mapped_v_Q_D, array_vel_acc), 0)\n",
    "                Data[i].append(array)\n",
    "        Data[i] = np.array(Data[i])\n",
    "\n",
    "    Data = np.array(Data)\n",
    "    K = np.array([len(Data[i]) for i in range(len(Data))])\n",
    "    J = np.where(K > 0)\n",
    "    Data = Data[J]\n",
    "    return(Data)"
   ]
  },
  {
   "cell_type": "markdown",
   "metadata": {},
   "source": [
    "## Train-Test split function"
   ]
  },
  {
   "cell_type": "code",
   "execution_count": 28,
   "metadata": {},
   "outputs": [],
   "source": [
    "def trainTestSplit(data):\n",
    "    I = []\n",
    "    random.shuffle(data)\n",
    "    for j in range(1,6):\n",
    "        I.append(np.where([len(data[i])==j for i in range(len(Data))])[0])\n",
    "\n",
    "    train = np.concatenate((data[I[0]][len(I[0])//3:], data[I[1]][len(I[1])//3:], \n",
    "                            data[I[2]][len(I[2])//3:], data[I[3]][len(I[3])//3:], \n",
    "                            data[I[4]][len(I[4])//3:]), 0)\n",
    "\n",
    "    test = np.concatenate((data[I[0]][:len(I[0])//3], data[I[1]][:len(I[1])//3],\n",
    "                           data[I[2]][:len(I[2])//3], data[I[3]][:len(I[3])//3],\n",
    "                           data[I[4]][:len(I[4])//3]), 0)\n",
    "    return train, test"
   ]
  },
  {
   "cell_type": "markdown",
   "metadata": {},
   "source": [
    "## Preparing data for feeding to a clsaaifier"
   ]
  },
  {
   "cell_type": "code",
   "execution_count": 29,
   "metadata": {},
   "outputs": [],
   "source": [
    "def localModel(data):\n",
    "    X = [0] * 5 # 5 is the length of label set\n",
    "    X[0] = []\n",
    "    for i in range(len(data)):\n",
    "        X[0].append(data[i][0])\n",
    "    X[0] = np.array(X[0])\n",
    "    for j in range(1, 5):\n",
    "        X[j] = []\n",
    "        I = np.where([len(data[i]) > j for i in range(len(data))])[0]\n",
    "        for i in I:\n",
    "            X[j].append(np.insert(data[i][j], len(data[i][j])-1, data[i][j-1][-1], axis=0))\n",
    "        X[j] = np.array(X[j])\n",
    "    X = np.array(X)\n",
    "    return X"
   ]
  },
  {
   "cell_type": "markdown",
   "metadata": {},
   "source": [
    "# Training classifiers"
   ]
  },
  {
   "cell_type": "markdown",
   "metadata": {},
   "source": [
    "### Training Linear SVM"
   ]
  },
  {
   "cell_type": "code",
   "execution_count": 30,
   "metadata": {},
   "outputs": [],
   "source": [
    "def trainLinearSVM(X, C_list = [1e4, 1e5, 1e5, 1e5, 1e5]): \n",
    "    \n",
    "    clf = [0] * 5 \n",
    "    accuracies = np.zeros(len(X))\n",
    "    for i in range(len(X)): \n",
    "        clf[i] = make_pipeline(LinearSVC(dual=False, C=C_list[i], max_iter = 1000))\n",
    "        clf[i].fit(X[i][:,:-1], X[i][:, -1])\n",
    "        X_pred = clf[i].predict(X[i][:, :-1])\n",
    "        accuracies[i] = metrics.accuracy_score(X[i][:, -1], X_pred)\n",
    "    \n",
    "    print(\"train accuracies for local classifiers given x_i and y_{i-1} =\") \n",
    "    print(accuracies)\n",
    "    \n",
    "    return clf"
   ]
  },
  {
   "cell_type": "markdown",
   "metadata": {},
   "source": [
    "### Training a Gaussian SVM"
   ]
  },
  {
   "cell_type": "code",
   "execution_count": 31,
   "metadata": {},
   "outputs": [],
   "source": [
    "def trainGauSVM(X, C_list = [1e4, 1e5, 1e5, 1e5, 1e5], kernel_list = ['rbf'] * 5, \n",
    "                    gamma_list = [1e5] * 5):\n",
    "    \n",
    "    clf = [0] * 5\n",
    "    accuracies = np.zeros(len(X))\n",
    "    for i in range(len(X)): \n",
    "        clf[i] = make_pipeline(svm.SVC(C=C_list[i], kernel = kernel_list[i], \n",
    "                                                gamma= gamma_list[i], max_iter = 200000))\n",
    "        clf[i].fit(X[i][:,:-1], X[i][:, -1])\n",
    "\n",
    "        X_pred = clf[i].predict(X[i][:, :-1])\n",
    "        accuracies[i] = metrics.accuracy_score(X[i][:, -1], X_pred)\n",
    "    \n",
    "    print(\"train accuracies for local classifiers given x_i and y_{i-1} =\") \n",
    "    print(accuracies)\n",
    "    \n",
    "    return clf"
   ]
  },
  {
   "cell_type": "markdown",
   "metadata": {},
   "source": [
    "### Training Decision Tree"
   ]
  },
  {
   "cell_type": "code",
   "execution_count": 32,
   "metadata": {},
   "outputs": [],
   "source": [
    "def trainDT(X):\n",
    "    \n",
    "    clf = [0] * 5\n",
    "    accuracies = np.zeros(len(X))\n",
    "\n",
    "    for i in range(len(X)): \n",
    "        clf[i] = DecisionTreeClassifier(random_state=0)\n",
    "        clf[i].fit(X[i][:,:-1], X[i][:, -1])\n",
    "        X_pred = clf[i].predict(X[i][:, :-1])\n",
    "        accuracies[i] = metrics.accuracy_score(X[i][:, -1], X_pred)\n",
    "        \n",
    "    print(\"train accuracies for local classifiers given x_i and y_{i-1} =\") \n",
    "    print(accuracies)\n",
    "    \n",
    "    return clf"
   ]
  },
  {
   "cell_type": "markdown",
   "metadata": {},
   "source": [
    "### Training Random Forest"
   ]
  },
  {
   "cell_type": "code",
   "execution_count": 33,
   "metadata": {},
   "outputs": [],
   "source": [
    "def trainRF(X, num_estimators = 100):\n",
    "    \n",
    "    clf = [0] * 5\n",
    "    accuracies = np.zeros(len(X))\n",
    "\n",
    "    for i in range(len(X)): \n",
    "        clf[i] = RandomForestClassifier(n_estimators=num_estimators, random_state=0)\n",
    "        clf[i].fit(X[i][:,:-1], X[i][:, -1])\n",
    "        X_pred = clf[i].predict(X[i][:, :-1])\n",
    "        accuracies[i] = metrics.accuracy_score(X[i][:, -1], X_pred)\n",
    "        \n",
    "    print(\"train accuracies for local classifiers given x_i and y_{i-1} =\") \n",
    "    print(accuracies)\n",
    "    \n",
    "    return clf"
   ]
  },
  {
   "cell_type": "markdown",
   "metadata": {},
   "source": [
    "## Get scores by the classifier"
   ]
  },
  {
   "cell_type": "markdown",
   "metadata": {},
   "source": [
    "### Getting scores for SVM"
   ]
  },
  {
   "cell_type": "code",
   "execution_count": 34,
   "metadata": {},
   "outputs": [],
   "source": [
    "def scoreSVM(data, clf):\n",
    "    scores = [0] * len(data)\n",
    "    S_0 = clf[0].decision_function(data[0][:-1].reshape(1,len(data[0])-1))[0]\n",
    "    S_0_arg_added = np.concatenate((-np.ones(5).reshape(-1,1), S_0.reshape(-1,1)), 1)\n",
    "    scores[0] = S_0_arg_added\n",
    "    for i in range(1, len(data)):\n",
    "        S = np.zeros((5,5))\n",
    "        for k in range(5):\n",
    "            a = clf[i].decision_function(np.insert(data[i][:-1], len(data[i])-1,\n",
    "                                            k, axis=0).reshape(1,len(data[i])))[0]\n",
    "            S[:,k] = a + scores[i-1][:,1][k]\n",
    "        scores[i] = np.concatenate((np.argmax(S,1).reshape(-1,1), \n",
    "                                    np.max(S,1).reshape(-1,1)) ,1)\n",
    "    scores = np.array(scores)\n",
    "    return scores\n",
    "\n",
    "def scoresSVM(data, clf):\n",
    "    scores = [0] * len(data)\n",
    "    for i in range(len(data)):\n",
    "        scores[i] = scoreSVM(data[i], clf)\n",
    "    scores = np.array(scores)\n",
    "    return scores"
   ]
  },
  {
   "cell_type": "markdown",
   "metadata": {},
   "source": [
    "### Getting scores for DT and RF"
   ]
  },
  {
   "cell_type": "code",
   "execution_count": 35,
   "metadata": {},
   "outputs": [],
   "source": [
    "def scoreDT_RF(data, clf):\n",
    "    scores = [0] * len(data)\n",
    "    S_0 = clf[0].predict_proba(data[0][:-1].reshape(1, len(data[0])-1))[0]\n",
    "    S_0_arg_added = np.concatenate((-np.ones(5).reshape(-1,1), S_0.reshape(-1,1)), 1)\n",
    "    scores[0] = S_0_arg_added\n",
    "    for i in range(1, len(data)):\n",
    "        S = np.zeros((5,5))\n",
    "        for k in range(5):\n",
    "            a = clf[i].predict_proba(np.insert(data[i][:-1], len(data[i])-1,\n",
    "                                                k, axis=0).reshape(1, len(data[i])))[0]\n",
    "            S[:,k] = a + scores[i-1][:,1][k]\n",
    "        scores[i] = np.concatenate((np.argmax(S,1).reshape(-1,1), \n",
    "                                    np.max(S,1).reshape(-1,1)) ,1)\n",
    "    scores = np.array(scores)\n",
    "    return scores\n",
    "\n",
    "def scoresDT_RF(data, clf):\n",
    "    scores = [0] * len(data)\n",
    "    for i in range(len(data)):\n",
    "        scores[i] = scoreDT_RF(data[i], clf)\n",
    "    scores = np.array(scores)\n",
    "    return scores\n"
   ]
  },
  {
   "cell_type": "markdown",
   "metadata": {},
   "source": [
    "## Viterbi algorithm (in order to find argmaxs i.e., labels)"
   ]
  },
  {
   "cell_type": "markdown",
   "metadata": {},
   "source": [
    "### Viterbi for SVM"
   ]
  },
  {
   "cell_type": "code",
   "execution_count": 36,
   "metadata": {},
   "outputs": [],
   "source": [
    "def predictViterbiSVM(data, clf):\n",
    "    scores = scoresSVM(data, clf)\n",
    "    y_pred = [0] * len(data)\n",
    "    for j in range(len(data)):\n",
    "        if len(data[j]) > 1:\n",
    "            y_pred[j] = np.zeros(len(data[j]))\n",
    "            b = int(np.argmax(scores[j][-1][:,1]))\n",
    "            y_pred[j][-1] = b\n",
    "            for i in range(len(data[j])-1, 0, -1):\n",
    "                b = int(scores[j][i][b][0])\n",
    "                y_pred[j][i-1] = b\n",
    "        elif len(data[j]) == 1:\n",
    "            y_pred[j] = np.zeros(len(data[j]))\n",
    "            y_pred[j][0] = int(scores[j][0][0][1])\n",
    "\n",
    "    accuracies = np.zeros(len(data))\n",
    "    for i in range(len(data)):\n",
    "        accuracies[i] = metrics.accuracy_score(y_pred[i], data[i][:,-1])\n",
    "    accuracy = np.mean(accuracies)\n",
    "    return y_pred, accuracy, accuracies"
   ]
  },
  {
   "cell_type": "markdown",
   "metadata": {},
   "source": [
    "### Viterbi for DT and RF"
   ]
  },
  {
   "cell_type": "code",
   "execution_count": 37,
   "metadata": {},
   "outputs": [],
   "source": [
    "def predictViterbiDT_RF(data, clf):\n",
    "    scores = scoresDT_RF(data, clf)\n",
    "    y_pred = [0] * len(data)\n",
    "    for j in range(len(data)):\n",
    "        if len(data[j]) > 1:\n",
    "            y_pred[j] = np.zeros(len(data[j]))\n",
    "            b = int(np.argmax(scores[j][-1][:,1]))\n",
    "            y_pred[j][-1] = b\n",
    "            for i in range(len(data[j])-1, 0, -1):\n",
    "                b = int(scores[j][i][b][0])\n",
    "                y_pred[j][i-1] = b\n",
    "        elif len(data[j]) == 1:\n",
    "            y_pred[j] = np.zeros(len(data[j]))\n",
    "            y_pred[j][0] = int(np.argmax(scores[j][-1][:,1]))\n",
    "\n",
    "    accuracies = np.zeros(len(data))\n",
    "    for i in range(len(data)):\n",
    "        accuracies[i] = metrics.accuracy_score(y_pred[i], data[i][:,-1])\n",
    "    accuracy = np.mean(accuracies)\n",
    "    return y_pred, accuracy, accuracies"
   ]
  },
  {
   "cell_type": "markdown",
   "metadata": {},
   "source": [
    "## Greedy way of choosing labels"
   ]
  },
  {
   "cell_type": "code",
   "execution_count": 38,
   "metadata": {},
   "outputs": [],
   "source": [
    "def predictPoint(data, clf): # data is a point of data\n",
    "    s = 0\n",
    "    y_pred = [0] * len(data)\n",
    "    y_pred[0] = int(clf[0].predict(data[0][:-1].reshape(1,len(data[0])-1))[0])\n",
    "\n",
    "    for i in range(1, len(data)):\n",
    "        b = int(clf[i].predict(np.insert(data[i][:-1], len(data[i])-1, y_pred[i-1], \n",
    "                                         axis=0).reshape(1,len(data[i])))[0])\n",
    "\n",
    "        y_pred[i] = b\n",
    "    \n",
    "    accuracy = metrics.accuracy_score(y_pred, data[:,-1])\n",
    "    return y_pred, accuracy\n",
    "\n",
    "def predict(data, clf):\n",
    "    y_pred = [0] * len(data)\n",
    "    accuracies = np.zeros(len(data))\n",
    "    for i in range(len(data)):\n",
    "        A = predictPoint(data[i], clf)\n",
    "        y_pred[i] = A[0]\n",
    "        accuracies[i] = A[1]\n",
    "    return y_pred, np.mean(accuracies)"
   ]
  },
  {
   "cell_type": "markdown",
   "metadata": {},
   "source": [
    "# Experiments"
   ]
  },
  {
   "cell_type": "markdown",
   "metadata": {},
   "source": [
    "## Experience with feature mapping $\\phi_1$"
   ]
  },
  {
   "cell_type": "code",
   "execution_count": 39,
   "metadata": {},
   "outputs": [],
   "source": [
    "Data = featureMapping1(data)\n",
    "train, test = trainTestSplit(Data)\n",
    "X = localModel(train)"
   ]
  },
  {
   "cell_type": "markdown",
   "metadata": {},
   "source": [
    "#### Linear SVM"
   ]
  },
  {
   "cell_type": "code",
   "execution_count": 299,
   "metadata": {},
   "outputs": [
    {
     "name": "stdout",
     "output_type": "stream",
     "text": [
      "train accuracies for local classifiers given x_i and y_{i-1} =\n",
      "[0.56785317 0.52866022 0.49291408 0.50756694 0.51701783]\n",
      "train accuracy = 0.5110585836114201\n",
      "test accuracy = 0.5042711234911792\n"
     ]
    }
   ],
   "source": [
    "clf = trainLinearSVM(X, C_list = [1]*5)\n",
    "print(\"train accuracy =\", predictViterbiSVM(train, clf)[1])\n",
    "print(\"test accuracy =\", predictViterbiSVM(test, clf)[1])"
   ]
  },
  {
   "cell_type": "markdown",
   "metadata": {},
   "source": [
    "#### Gaussian SVM"
   ]
  },
  {
   "cell_type": "code",
   "execution_count": 300,
   "metadata": {},
   "outputs": [
    {
     "name": "stderr",
     "output_type": "stream",
     "text": [
      "/Users/hasan/opt/anaconda3/lib/python3.7/site-packages/sklearn/svm/_base.py:258: ConvergenceWarning: Solver terminated early (max_iter=200000).  Consider pre-processing your data with StandardScaler or MinMaxScaler.\n",
      "  % self.max_iter, ConvergenceWarning)\n",
      "/Users/hasan/opt/anaconda3/lib/python3.7/site-packages/sklearn/svm/_base.py:258: ConvergenceWarning: Solver terminated early (max_iter=200000).  Consider pre-processing your data with StandardScaler or MinMaxScaler.\n",
      "  % self.max_iter, ConvergenceWarning)\n",
      "/Users/hasan/opt/anaconda3/lib/python3.7/site-packages/sklearn/svm/_base.py:258: ConvergenceWarning: Solver terminated early (max_iter=200000).  Consider pre-processing your data with StandardScaler or MinMaxScaler.\n",
      "  % self.max_iter, ConvergenceWarning)\n",
      "/Users/hasan/opt/anaconda3/lib/python3.7/site-packages/sklearn/svm/_base.py:258: ConvergenceWarning: Solver terminated early (max_iter=200000).  Consider pre-processing your data with StandardScaler or MinMaxScaler.\n",
      "  % self.max_iter, ConvergenceWarning)\n",
      "/Users/hasan/opt/anaconda3/lib/python3.7/site-packages/sklearn/svm/_base.py:258: ConvergenceWarning: Solver terminated early (max_iter=200000).  Consider pre-processing your data with StandardScaler or MinMaxScaler.\n",
      "  % self.max_iter, ConvergenceWarning)\n"
     ]
    },
    {
     "name": "stdout",
     "output_type": "stream",
     "text": [
      "train accuracies for local classifiers given x_i and y_{i-1} =\n",
      "[0.70105673 0.74343923 0.75819309 0.78987194 0.82901135]\n",
      "train accuracy = 0.5729282536151279\n",
      "test accuracy = 0.48201485608170846\n"
     ]
    }
   ],
   "source": [
    "clf = trainGauSVM(X, C_list = [1e5]*5, kernel_list = ['rbf']*5, gamma_list = [10]*5)\n",
    "print(\"train accuracy =\", predictViterbiSVM(train, clf)[1])\n",
    "print(\"test accuracy =\", predictViterbiSVM(test, clf)[1])"
   ]
  },
  {
   "cell_type": "code",
   "execution_count": 301,
   "metadata": {},
   "outputs": [
    {
     "name": "stderr",
     "output_type": "stream",
     "text": [
      "/Users/hasan/opt/anaconda3/lib/python3.7/site-packages/sklearn/svm/_base.py:258: ConvergenceWarning: Solver terminated early (max_iter=200000).  Consider pre-processing your data with StandardScaler or MinMaxScaler.\n",
      "  % self.max_iter, ConvergenceWarning)\n",
      "/Users/hasan/opt/anaconda3/lib/python3.7/site-packages/sklearn/svm/_base.py:258: ConvergenceWarning: Solver terminated early (max_iter=200000).  Consider pre-processing your data with StandardScaler or MinMaxScaler.\n",
      "  % self.max_iter, ConvergenceWarning)\n",
      "/Users/hasan/opt/anaconda3/lib/python3.7/site-packages/sklearn/svm/_base.py:258: ConvergenceWarning: Solver terminated early (max_iter=200000).  Consider pre-processing your data with StandardScaler or MinMaxScaler.\n",
      "  % self.max_iter, ConvergenceWarning)\n",
      "/Users/hasan/opt/anaconda3/lib/python3.7/site-packages/sklearn/svm/_base.py:258: ConvergenceWarning: Solver terminated early (max_iter=200000).  Consider pre-processing your data with StandardScaler or MinMaxScaler.\n",
      "  % self.max_iter, ConvergenceWarning)\n",
      "/Users/hasan/opt/anaconda3/lib/python3.7/site-packages/sklearn/svm/_base.py:258: ConvergenceWarning: Solver terminated early (max_iter=200000).  Consider pre-processing your data with StandardScaler or MinMaxScaler.\n",
      "  % self.max_iter, ConvergenceWarning)\n"
     ]
    },
    {
     "name": "stdout",
     "output_type": "stream",
     "text": [
      "train accuracies for local classifiers given x_i and y_{i-1} =\n",
      "[0.70105673 0.74343923 0.75819309 0.78987194 0.82901135]\n",
      "train accuracy = 0.6949573600296626\n",
      "test accuracy = 0.584614670380687\n"
     ]
    }
   ],
   "source": [
    "clf = trainClassifier(X, C_list = [1e5]*5, kernel_list = ['rbf']*5, gamma_list = [10]*5)\n",
    "print(\"train accuracy =\", predict(train, clf)[1])\n",
    "print(\"test accuracy =\", predict(test, clf)[1])"
   ]
  },
  {
   "cell_type": "markdown",
   "metadata": {},
   "source": [
    "#### Decision Tree"
   ]
  },
  {
   "cell_type": "code",
   "execution_count": 42,
   "metadata": {},
   "outputs": [
    {
     "name": "stdout",
     "output_type": "stream",
     "text": [
      "train accuracies for local classifiers given x_i and y_{i-1} =\n",
      "[1. 1. 1. 1. 1.]\n",
      "train accuracy = 1.0\n",
      "test accuracy = 0.6743782479584262\n"
     ]
    }
   ],
   "source": [
    "clfTree = trainDT(X)\n",
    "print(\"train accuracy =\", predictViterbiDT_RF(train, clfTree)[1])\n",
    "print(\"test accuracy =\", predictViterbiDT_RF(test, clfTree)[1])"
   ]
  },
  {
   "cell_type": "markdown",
   "metadata": {},
   "source": [
    "#### Random Forest"
   ]
  },
  {
   "cell_type": "code",
   "execution_count": 43,
   "metadata": {},
   "outputs": [
    {
     "name": "stdout",
     "output_type": "stream",
     "text": [
      "train accuracies for local classifiers given x_i and y_{i-1} =\n",
      "[0.9585881  0.97582873 0.97918512 0.97322468 0.97317073]\n",
      "train accuracy = 0.9696266444320919\n",
      "test accuracy = 0.7205270972531551\n"
     ]
    }
   ],
   "source": [
    "clfRF = trainRF(X, 10)\n",
    "print(\"train accuracy =\", predictViterbiDT_RF(train, clfRF)[1])\n",
    "print(\"test accuracy =\", predictViterbiDT_RF(test, clfRF)[1])"
   ]
  },
  {
   "cell_type": "code",
   "execution_count": 325,
   "metadata": {},
   "outputs": [
    {
     "name": "stdout",
     "output_type": "stream",
     "text": [
      "train accuracy = 0.9864710789766407\n",
      "test accuracy = 0.7221448467966574\n",
      "train accuracy = 0.9833611420096404\n",
      "test accuracy = 0.7256917363045498\n"
     ]
    }
   ],
   "source": [
    "clfRF = trainRF(X, 20)\n",
    "print(\"train accuracy =\", predictViterbiDT_RF(train, clfRF)[1])\n",
    "print(\"test accuracy =\", predictViterbiDT_RF(test, clfRF)[1])"
   ]
  },
  {
   "cell_type": "code",
   "execution_count": 330,
   "metadata": {},
   "outputs": [
    {
     "name": "stdout",
     "output_type": "stream",
     "text": [
      "train accuracy = 0.9918149796069707\n",
      "test accuracy = 0.7310492107706592\n"
     ]
    }
   ],
   "source": [
    "clfRF = trainRF(X, 100)\n",
    "print(\"train accuracy =\", predictViterbiDT_RF(train, clfRF)[1])\n",
    "print(\"test accuracy =\", predictViterbiDT_RF(test, clfRF)[1])"
   ]
  },
  {
   "cell_type": "code",
   "execution_count": 327,
   "metadata": {},
   "outputs": [
    {
     "name": "stdout",
     "output_type": "stream",
     "text": [
      "train accuracy = 0.9928485354097146\n",
      "test accuracy = 0.7311420612813371\n"
     ]
    }
   ],
   "source": [
    "clfRF = trainRF(X, 200)\n",
    "print(\"train accuracy =\", predictViterbiDT_RF(train, clfRF)[1])\n",
    "print(\"test accuracy =\", predictViterbiDT_RF(test, clfRF)[1])"
   ]
  },
  {
   "cell_type": "markdown",
   "metadata": {},
   "source": [
    "## Experience with feature mapping $\\phi_2$"
   ]
  },
  {
   "cell_type": "code",
   "execution_count": 44,
   "metadata": {},
   "outputs": [],
   "source": [
    "Data = featureMapping2(data)\n",
    "train, test = trainTestSplit(Data)\n",
    "X = localModel(train)"
   ]
  },
  {
   "cell_type": "markdown",
   "metadata": {},
   "source": [
    "#### Linear SVM"
   ]
  },
  {
   "cell_type": "code",
   "execution_count": 52,
   "metadata": {},
   "outputs": [
    {
     "name": "stdout",
     "output_type": "stream",
     "text": [
      "train accuracies for local classifiers given x_i and y_{i-1} =\n",
      "[0.57559755 0.51208564 0.51062888 0.53899884 0.54227642]\n",
      "train accuracy = 0.5162451361867705\n",
      "test accuracy = 0.5101707498144024\n"
     ]
    }
   ],
   "source": [
    "clf = trainLinearSVM(X, C_list = [0.01]*5)\n",
    "print(\"train accuracy =\", predictViterbiSVM(train, clf)[1])\n",
    "print(\"test accuracy =\", predictViterbiSVM(test, clf)[1])"
   ]
  },
  {
   "cell_type": "markdown",
   "metadata": {},
   "source": [
    "#### Gaussian SVM"
   ]
  },
  {
   "cell_type": "code",
   "execution_count": 356,
   "metadata": {},
   "outputs": [
    {
     "name": "stderr",
     "output_type": "stream",
     "text": [
      "/Users/hasan/opt/anaconda3/lib/python3.7/site-packages/sklearn/svm/_base.py:258: ConvergenceWarning: Solver terminated early (max_iter=200000).  Consider pre-processing your data with StandardScaler or MinMaxScaler.\n",
      "  % self.max_iter, ConvergenceWarning)\n",
      "/Users/hasan/opt/anaconda3/lib/python3.7/site-packages/sklearn/svm/_base.py:258: ConvergenceWarning: Solver terminated early (max_iter=200000).  Consider pre-processing your data with StandardScaler or MinMaxScaler.\n",
      "  % self.max_iter, ConvergenceWarning)\n",
      "/Users/hasan/opt/anaconda3/lib/python3.7/site-packages/sklearn/svm/_base.py:258: ConvergenceWarning: Solver terminated early (max_iter=200000).  Consider pre-processing your data with StandardScaler or MinMaxScaler.\n",
      "  % self.max_iter, ConvergenceWarning)\n",
      "/Users/hasan/opt/anaconda3/lib/python3.7/site-packages/sklearn/svm/_base.py:258: ConvergenceWarning: Solver terminated early (max_iter=200000).  Consider pre-processing your data with StandardScaler or MinMaxScaler.\n",
      "  % self.max_iter, ConvergenceWarning)\n",
      "/Users/hasan/opt/anaconda3/lib/python3.7/site-packages/sklearn/svm/_base.py:258: ConvergenceWarning: Solver terminated early (max_iter=200000).  Consider pre-processing your data with StandardScaler or MinMaxScaler.\n",
      "  % self.max_iter, ConvergenceWarning)\n"
     ]
    },
    {
     "name": "stdout",
     "output_type": "stream",
     "text": [
      "train accuracies for local classifiers given x_i and y_{i-1} =\n",
      "[0.76223582 0.74171271 0.75775022 0.7677532  0.82090762]\n",
      "train accuracy = 0.6226362625139044\n",
      "test accuracy = 0.5474558960074281\n"
     ]
    }
   ],
   "source": [
    "clff = trainGauSVM(X, C_list = [1e4]*5, kernel_list = ['rbf']*5, gamma_list = [0.1]*5)\n",
    "print(\"train accuracy =\", predictViterbiSVM(train, clff)[1])\n",
    "print(\"test accuracy =\", predictViterbiSVM(test, clff)[1])"
   ]
  },
  {
   "cell_type": "markdown",
   "metadata": {},
   "source": [
    "#### Decision Tree"
   ]
  },
  {
   "cell_type": "code",
   "execution_count": 320,
   "metadata": {},
   "outputs": [
    {
     "name": "stdout",
     "output_type": "stream",
     "text": [
      "train accuracy = 1.0\n",
      "test accuracy = 0.7374094707520892\n"
     ]
    }
   ],
   "source": [
    "clfTree = trainDT(X)\n",
    "print(\"train accuracy =\", predictViterbiDT_RF(train, clfTree)[1])\n",
    "print(\"test accuracy =\", predictViterbiDT_RF(test, clfTree)[1])"
   ]
  },
  {
   "cell_type": "markdown",
   "metadata": {},
   "source": [
    "#### Random Forest"
   ]
  },
  {
   "cell_type": "code",
   "execution_count": 55,
   "metadata": {},
   "outputs": [
    {
     "name": "stdout",
     "output_type": "stream",
     "text": [
      "train accuracies for local classifiers given x_i and y_{i-1} =\n",
      "[0.98943858 0.98825967 0.99069973 0.98719441 0.9902439 ]\n",
      "train accuracy = 0.9895034278302761\n",
      "test accuracy = 0.79318856718634\n"
     ]
    }
   ],
   "source": [
    "clfRF = trainRF(X, 10)\n",
    "print(\"train accuracy =\", predictViterbiDT_RF(train, clfRF)[1])\n",
    "print(\"test accuracy =\", predictViterbiDT_RF(test, clfRF)[1])"
   ]
  },
  {
   "cell_type": "code",
   "execution_count": 334,
   "metadata": {},
   "outputs": [
    {
     "name": "stdout",
     "output_type": "stream",
     "text": [
      "train accuracy = 0.9970198368557656\n",
      "test accuracy = 0.8093314763231197\n"
     ]
    }
   ],
   "source": [
    "clfRF = trainRF(X, 20)\n",
    "print(\"train accuracy =\", predictViterbiDT_RF(train, clfRF)[1])\n",
    "print(\"test accuracy =\", predictViterbiDT_RF(test, clfRF)[1])"
   ]
  },
  {
   "cell_type": "code",
   "execution_count": 340,
   "metadata": {},
   "outputs": [
    {
     "name": "stdout",
     "output_type": "stream",
     "text": [
      "train accuracy = 1.0\n",
      "test accuracy = 0.8208542246982359\n"
     ]
    }
   ],
   "source": [
    "clfRF = trainRF(X, 100)\n",
    "print(\"train accuracy =\", predictViterbiDT_RF(train, clfRF)[1])\n",
    "print(\"test accuracy =\", predictViterbiDT_RF(test, clfRF)[1])"
   ]
  },
  {
   "cell_type": "code",
   "execution_count": 337,
   "metadata": {},
   "outputs": [
    {
     "name": "stdout",
     "output_type": "stream",
     "text": [
      "train accuracy = 1.0\n",
      "test accuracy = 0.8198514391829155\n"
     ]
    }
   ],
   "source": [
    "clfRF = trainRF(X, 200)\n",
    "print(\"train accuracy =\", predictViterbiDT_RF(train, clfRF)[1])\n",
    "print(\"test accuracy =\", predictViterbiDT_RF(test, clfRF)[1])"
   ]
  },
  {
   "cell_type": "markdown",
   "metadata": {},
   "source": [
    "## Experience with feature mapping $v_Q$ "
   ]
  },
  {
   "cell_type": "markdown",
   "metadata": {},
   "source": [
    "### Choosing landmarks"
   ]
  },
  {
   "cell_type": "code",
   "execution_count": 41,
   "metadata": {},
   "outputs": [],
   "source": [
    "a, c = np.min([np.min([np.min(data[i][j][:,:2], axis=0) for j in range(len(data[i]))], \n",
    "                      axis=0) for i in range(len(data))], axis=0)\n",
    "  \n",
    "b, d = np.max([np.max([np.max(data[i][j][:,:2], axis=0) for j in range(len(data[i]))], \n",
    "                      axis=0) for i in range(len(data))], axis=0)\n",
    "\n",
    "Mean = np.mean([np.mean([np.mean(data[i][k][:,:2], axis=0) for k in range(len(data[i]))], \n",
    "                      axis=0) for i in range(len(data))], axis=0)\n",
    "\n",
    "Std = np.std([np.std([np.std(data[i][l][:,:2], axis=0) for l in range(len(data[i]))], \n",
    "                      axis=0) for i in range(len(data))], axis=0)\n",
    "\n",
    "m = 20\n",
    "Q = np.ones((m,2))\n",
    "\n",
    "Q[:,0] = np.random.normal(Mean[0], 100*Std[0], m)\n",
    "Q[:,1] = np.random.normal(Mean[1], 20*Std[1], m) "
   ]
  },
  {
   "cell_type": "code",
   "execution_count": 113,
   "metadata": {},
   "outputs": [
    {
     "data": {
      "image/png": "[encoded data removed]",
      "text/plain": [
       "<Figure size 432x288 with 1 Axes>"
      ]
     },
     "metadata": {
      "needs_background": "light"
     },
     "output_type": "display_data"
    }
   ],
   "source": [
    "for i in range(len(data)):\n",
    "    plt.plot(data[i][0][:,0], data[i][0][:,1]);\n",
    "\n",
    "plt.scatter(Q[:,0], Q[:,1], s = 10, color = \"black\")\n",
    "plt.show()"
   ]
  },
  {
   "cell_type": "markdown",
   "metadata": {},
   "source": [
    "### Experience with feature mapping $\\phi_3 = v_Q$"
   ]
  },
  {
   "cell_type": "code",
   "execution_count": 47,
   "metadata": {},
   "outputs": [],
   "source": [
    "Data = featureMapping3(data, Q)\n",
    "train, test = trainTestSplit(Data)\n",
    "X = localModel(train)"
   ]
  },
  {
   "cell_type": "markdown",
   "metadata": {},
   "source": [
    "#### Linear SVM"
   ]
  },
  {
   "cell_type": "code",
   "execution_count": 55,
   "metadata": {},
   "outputs": [
    {
     "name": "stdout",
     "output_type": "stream",
     "text": [
      "train accuracies for local classifiers given x_i and y_{i-1} =\n",
      "[0.48832036 0.35773481 0.37987589 0.41860465 0.38673139]\n",
      "train accuracy = 0.4276140155728587\n",
      "test accuracy = 0.4290553080920564\n"
     ]
    }
   ],
   "source": [
    "clf = trainLinearSVM(X, C_list = [1e8]*5)\n",
    "print(\"train accuracy =\", predictViterbiSVM(train, clf)[1])\n",
    "print(\"test accuracy =\", predictViterbiSVM(test, clf)[1])"
   ]
  },
  {
   "cell_type": "markdown",
   "metadata": {},
   "source": [
    "#### Gaussian SVM"
   ]
  },
  {
   "cell_type": "code",
   "execution_count": 56,
   "metadata": {},
   "outputs": [
    {
     "name": "stderr",
     "output_type": "stream",
     "text": [
      "/Users/hasan/opt/anaconda3/lib/python3.7/site-packages/sklearn/svm/_base.py:258: ConvergenceWarning: Solver terminated early (max_iter=200000).  Consider pre-processing your data with StandardScaler or MinMaxScaler.\n",
      "  % self.max_iter, ConvergenceWarning)\n",
      "/Users/hasan/opt/anaconda3/lib/python3.7/site-packages/sklearn/svm/_base.py:258: ConvergenceWarning: Solver terminated early (max_iter=200000).  Consider pre-processing your data with StandardScaler or MinMaxScaler.\n",
      "  % self.max_iter, ConvergenceWarning)\n",
      "/Users/hasan/opt/anaconda3/lib/python3.7/site-packages/sklearn/svm/_base.py:258: ConvergenceWarning: Solver terminated early (max_iter=200000).  Consider pre-processing your data with StandardScaler or MinMaxScaler.\n",
      "  % self.max_iter, ConvergenceWarning)\n",
      "/Users/hasan/opt/anaconda3/lib/python3.7/site-packages/sklearn/svm/_base.py:258: ConvergenceWarning: Solver terminated early (max_iter=200000).  Consider pre-processing your data with StandardScaler or MinMaxScaler.\n",
      "  % self.max_iter, ConvergenceWarning)\n",
      "/Users/hasan/opt/anaconda3/lib/python3.7/site-packages/sklearn/svm/_base.py:258: ConvergenceWarning: Solver terminated early (max_iter=200000).  Consider pre-processing your data with StandardScaler or MinMaxScaler.\n",
      "  % self.max_iter, ConvergenceWarning)\n"
     ]
    },
    {
     "name": "stdout",
     "output_type": "stream",
     "text": [
      "train accuracies for local classifiers given x_i and y_{i-1} =\n",
      "[0.70828699 0.63639503 0.68572695 0.71627907 0.72330097]\n",
      "train accuracy = 0.5466629588431591\n",
      "test accuracy = 0.48827951002227177\n"
     ]
    }
   ],
   "source": [
    "clf = trainGauSVM(X, C_list = [1e4]*5, kernel_list = ['rbf']*5, gamma_list = [1]*5)\n",
    "print(\"train accuracy =\", predictViterbiSVM(train, clf)[1])\n",
    "print(\"test accuracy =\", predictViterbiSVM(test, clf)[1])"
   ]
  },
  {
   "cell_type": "markdown",
   "metadata": {},
   "source": [
    "#### Decision Tree"
   ]
  },
  {
   "cell_type": "code",
   "execution_count": 53,
   "metadata": {},
   "outputs": [
    {
     "name": "stdout",
     "output_type": "stream",
     "text": [
      "train accuracies for local classifiers given x_i and y_{i-1} =\n",
      "[1. 1. 1. 1. 1.]\n",
      "train accuracy = 1.0\n",
      "test accuracy = 0.6825909428359317\n"
     ]
    }
   ],
   "source": [
    "clfTree = trainDT(X)\n",
    "print(\"train accuracy =\", predictViterbiDT_RF(train, clfTree)[1])\n",
    "print(\"test accuracy =\", predictViterbiDT_RF(test, clfTree)[1])"
   ]
  },
  {
   "cell_type": "markdown",
   "metadata": {},
   "source": [
    "#### Random Forest"
   ]
  },
  {
   "cell_type": "code",
   "execution_count": 57,
   "metadata": {},
   "outputs": [
    {
     "name": "stdout",
     "output_type": "stream",
     "text": [
      "train accuracies for local classifiers given x_i and y_{i-1} =\n",
      "[0.99388209 0.99551105 0.99734043 0.99476744 0.99190939]\n",
      "train accuracy = 0.9949295513533555\n",
      "test accuracy = 0.7244988864142538\n"
     ]
    }
   ],
   "source": [
    "clfRF = trainRF(X, 20)\n",
    "print(\"train accuracy =\", predictViterbiDT_RF(train, clfRF)[1])\n",
    "print(\"test accuracy =\", predictViterbiDT_RF(test, clfRF)[1])"
   ]
  },
  {
   "cell_type": "code",
   "execution_count": 59,
   "metadata": {},
   "outputs": [
    {
     "name": "stdout",
     "output_type": "stream",
     "text": [
      "train accuracies for local classifiers given x_i and y_{i-1} =\n",
      "[1.         1.         0.99955674 1.         1.        ]\n",
      "train accuracy = 1.0\n",
      "test accuracy = 0.729370824053452\n"
     ]
    }
   ],
   "source": [
    "clfRF = trainRF(X, 100)\n",
    "print(\"train accuracy =\", predictViterbiDT_RF(train, clfRF)[1])\n",
    "print(\"test accuracy =\", predictViterbiDT_RF(test, clfRF)[1])"
   ]
  },
  {
   "cell_type": "markdown",
   "metadata": {},
   "source": [
    "### Experience with feature mapping $\\phi_4 = v_Q$ + $\\phi_1$"
   ]
  },
  {
   "cell_type": "code",
   "execution_count": 114,
   "metadata": {},
   "outputs": [],
   "source": [
    "Data = featureMapping4(data, Q)\n",
    "train, test = trainTestSplit(Data)\n",
    "X = localModel(train)"
   ]
  },
  {
   "cell_type": "markdown",
   "metadata": {},
   "source": [
    "#### Linear SVM"
   ]
  },
  {
   "cell_type": "code",
   "execution_count": 115,
   "metadata": {},
   "outputs": [
    {
     "name": "stdout",
     "output_type": "stream",
     "text": [
      "train accuracies for local classifiers given x_i and y_{i-1} =\n",
      "[0.58866037 0.52555249 0.54162976 0.53667055 0.52845528]\n",
      "train accuracy = 0.5218732629238465\n",
      "test accuracy = 0.5281644394951744\n"
     ]
    }
   ],
   "source": [
    "clf = trainLinearSVM(X, C_list = [1]*5)\n",
    "print(\"train accuracy =\", predictViterbiSVM(train, clf)[1])\n",
    "print(\"test accuracy =\", predictViterbiSVM(test, clf)[1])"
   ]
  },
  {
   "cell_type": "markdown",
   "metadata": {},
   "source": [
    "#### Gaussian SVM"
   ]
  },
  {
   "cell_type": "code",
   "execution_count": 117,
   "metadata": {},
   "outputs": [
    {
     "name": "stderr",
     "output_type": "stream",
     "text": [
      "/Users/hasan/opt/anaconda3/lib/python3.7/site-packages/sklearn/svm/_base.py:258: ConvergenceWarning: Solver terminated early (max_iter=200000).  Consider pre-processing your data with StandardScaler or MinMaxScaler.\n",
      "  % self.max_iter, ConvergenceWarning)\n",
      "/Users/hasan/opt/anaconda3/lib/python3.7/site-packages/sklearn/svm/_base.py:258: ConvergenceWarning: Solver terminated early (max_iter=200000).  Consider pre-processing your data with StandardScaler or MinMaxScaler.\n",
      "  % self.max_iter, ConvergenceWarning)\n",
      "/Users/hasan/opt/anaconda3/lib/python3.7/site-packages/sklearn/svm/_base.py:258: ConvergenceWarning: Solver terminated early (max_iter=200000).  Consider pre-processing your data with StandardScaler or MinMaxScaler.\n",
      "  % self.max_iter, ConvergenceWarning)\n",
      "/Users/hasan/opt/anaconda3/lib/python3.7/site-packages/sklearn/svm/_base.py:258: ConvergenceWarning: Solver terminated early (max_iter=200000).  Consider pre-processing your data with StandardScaler or MinMaxScaler.\n",
      "  % self.max_iter, ConvergenceWarning)\n",
      "/Users/hasan/opt/anaconda3/lib/python3.7/site-packages/sklearn/svm/_base.py:258: ConvergenceWarning: Solver terminated early (max_iter=200000).  Consider pre-processing your data with StandardScaler or MinMaxScaler.\n",
      "  % self.max_iter, ConvergenceWarning)\n"
     ]
    },
    {
     "name": "stdout",
     "output_type": "stream",
     "text": [
      "train accuracies for local classifiers given x_i and y_{i-1} =\n",
      "[0.8627015  0.89779006 0.93312666 0.94703143 0.96178862]\n",
      "train accuracy = 0.7336714841578654\n",
      "test accuracy = 0.5287397921306607\n"
     ]
    }
   ],
   "source": [
    "clf = trainGauSVM(X, C_list = [1e4]*5, kernel_list = ['rbf']*5, gamma_list = [1]*5)\n",
    "print(\"train accuracy =\", predictViterbiSVM(train, clf)[1])\n",
    "print(\"test accuracy =\", predictViterbiSVM(test, clf)[1])"
   ]
  },
  {
   "cell_type": "markdown",
   "metadata": {},
   "source": [
    "#### Decision Tree"
   ]
  },
  {
   "cell_type": "code",
   "execution_count": 118,
   "metadata": {},
   "outputs": [
    {
     "name": "stdout",
     "output_type": "stream",
     "text": [
      "train accuracies for local classifiers given x_i and y_{i-1} =\n",
      "[1. 1. 1. 1. 1.]\n",
      "train accuracy = 1.0\n",
      "test accuracy = 0.7343541202672607\n"
     ]
    }
   ],
   "source": [
    "clfTree = trainDT(X)\n",
    "print(\"train accuracy =\", predictViterbiDT_RF(train, clfTree)[1])\n",
    "print(\"test accuracy =\", predictViterbiDT_RF(test, clfTree)[1])"
   ]
  },
  {
   "cell_type": "markdown",
   "metadata": {},
   "source": [
    "#### Random Forest"
   ]
  },
  {
   "cell_type": "code",
   "execution_count": 119,
   "metadata": {},
   "outputs": [
    {
     "name": "stdout",
     "output_type": "stream",
     "text": [
      "train accuracies for local classifiers given x_i and y_{i-1} =\n",
      "[0.99638688 0.99585635 0.99734278 0.99708964 0.99756098]\n",
      "train accuracy = 0.9960857884009634\n",
      "test accuracy = 0.8237286562731996\n"
     ]
    }
   ],
   "source": [
    "clfRF = trainRF(X, 20)\n",
    "print(\"train accuracy =\", predictViterbiDT_RF(train, clfRF)[1])\n",
    "print(\"test accuracy =\", predictViterbiDT_RF(test, clfRF)[1])"
   ]
  },
  {
   "cell_type": "code",
   "execution_count": 120,
   "metadata": {},
   "outputs": [
    {
     "name": "stdout",
     "output_type": "stream",
     "text": [
      "train accuracies for local classifiers given x_i and y_{i-1} =\n",
      "[1.         1.         1.         0.99941793 1.        ]\n",
      "train accuracy = 0.9999444135630906\n",
      "test accuracy = 0.8316536748329622\n"
     ]
    }
   ],
   "source": [
    "clfRF = trainRF(X, 100)\n",
    "print(\"train accuracy =\", predictViterbiDT_RF(train, clfRF)[1])\n",
    "print(\"test accuracy =\", predictViterbiDT_RF(test, clfRF)[1])"
   ]
  },
  {
   "cell_type": "markdown",
   "metadata": {},
   "source": [
    "### Experience with feature mapping $\\phi_5 = v_Q$ + $\\phi_2$"
   ]
  },
  {
   "cell_type": "code",
   "execution_count": 121,
   "metadata": {},
   "outputs": [],
   "source": [
    "Data = featureMapping5(data, Q)\n",
    "train, test = trainTestSplit(Data)\n",
    "X = localModel(train)"
   ]
  },
  {
   "cell_type": "markdown",
   "metadata": {},
   "source": [
    "#### Linear SVM"
   ]
  },
  {
   "cell_type": "code",
   "execution_count": 123,
   "metadata": {},
   "outputs": [
    {
     "name": "stdout",
     "output_type": "stream",
     "text": [
      "train accuracies for local classifiers given x_i and y_{i-1} =\n",
      "[0.59505281 0.5176105  0.54517272 0.55529686 0.55365854]\n",
      "train accuracy = 0.5279043913285159\n",
      "test accuracy = 0.514355976243504\n"
     ]
    }
   ],
   "source": [
    "clf = trainLinearSVM(X, C_list = [1]*5)\n",
    "print(\"train accuracy =\", predictViterbiSVM(train, clf)[1])\n",
    "print(\"test accuracy =\", predictViterbiSVM(test, clf)[1])"
   ]
  },
  {
   "cell_type": "markdown",
   "metadata": {},
   "source": [
    "#### Gaussian SVM"
   ]
  },
  {
   "cell_type": "code",
   "execution_count": 125,
   "metadata": {},
   "outputs": [
    {
     "name": "stderr",
     "output_type": "stream",
     "text": [
      "/Users/hasan/opt/anaconda3/lib/python3.7/site-packages/sklearn/svm/_base.py:258: ConvergenceWarning: Solver terminated early (max_iter=200000).  Consider pre-processing your data with StandardScaler or MinMaxScaler.\n",
      "  % self.max_iter, ConvergenceWarning)\n",
      "/Users/hasan/opt/anaconda3/lib/python3.7/site-packages/sklearn/svm/_base.py:258: ConvergenceWarning: Solver terminated early (max_iter=200000).  Consider pre-processing your data with StandardScaler or MinMaxScaler.\n",
      "  % self.max_iter, ConvergenceWarning)\n",
      "/Users/hasan/opt/anaconda3/lib/python3.7/site-packages/sklearn/svm/_base.py:258: ConvergenceWarning: Solver terminated early (max_iter=200000).  Consider pre-processing your data with StandardScaler or MinMaxScaler.\n",
      "  % self.max_iter, ConvergenceWarning)\n"
     ]
    },
    {
     "name": "stdout",
     "output_type": "stream",
     "text": [
      "train accuracies for local classifiers given x_i and y_{i-1} =\n",
      "[0.88966092 0.92921271 0.94641275 0.97380675 0.97235772]\n",
      "train accuracy = 0.7554243098017417\n",
      "test accuracy = 0.525231997030438\n"
     ]
    }
   ],
   "source": [
    "clf = trainGauSVM(X, C_list = [1e4]*5, kernel_list = ['rbf']*5, gamma_list = [1]*5)\n",
    "print(\"train accuracy =\", predictViterbiSVM(train, clf)[1])\n",
    "print(\"test accuracy =\", predictViterbiSVM(test, clf)[1])"
   ]
  },
  {
   "cell_type": "markdown",
   "metadata": {},
   "source": [
    "#### Decision Tree"
   ]
  },
  {
   "cell_type": "code",
   "execution_count": 126,
   "metadata": {},
   "outputs": [
    {
     "name": "stdout",
     "output_type": "stream",
     "text": [
      "train accuracies for local classifiers given x_i and y_{i-1} =\n",
      "[1. 1. 1. 1. 1.]\n",
      "train accuracy = 1.0\n",
      "test accuracy = 0.7451837416481069\n"
     ]
    }
   ],
   "source": [
    "clfTree = trainDT(X)\n",
    "print(\"train accuracy =\", predictViterbiDT_RF(train, clfTree)[1])\n",
    "print(\"test accuracy =\", predictViterbiDT_RF(test, clfTree)[1])"
   ]
  },
  {
   "cell_type": "markdown",
   "metadata": {},
   "source": [
    "#### Random Forest"
   ]
  },
  {
   "cell_type": "code",
   "execution_count": 127,
   "metadata": {},
   "outputs": [
    {
     "name": "stdout",
     "output_type": "stream",
     "text": [
      "train accuracies for local classifiers given x_i and y_{i-1} =\n",
      "[0.99749861 0.99551105 0.99689991 0.99534342 0.99756098]\n",
      "train accuracy = 0.9963915138039651\n",
      "test accuracy = 0.8228841870824054\n"
     ]
    }
   ],
   "source": [
    "clfRF = trainRF(X, 20)\n",
    "print(\"train accuracy =\", predictViterbiDT_RF(train, clfRF)[1])\n",
    "print(\"test accuracy =\", predictViterbiDT_RF(test, clfRF)[1])"
   ]
  },
  {
   "cell_type": "code",
   "execution_count": 128,
   "metadata": {},
   "outputs": [
    {
     "name": "stdout",
     "output_type": "stream",
     "text": [
      "train accuracies for local classifiers given x_i and y_{i-1} =\n",
      "[1. 1. 1. 1. 1.]\n",
      "train accuracy = 1.0\n",
      "test accuracy = 0.8276818856718634\n"
     ]
    }
   ],
   "source": [
    "clfRF = trainRF(X, 100)\n",
    "print(\"train accuracy =\", predictViterbiDT_RF(train, clfRF)[1])\n",
    "print(\"test accuracy =\", predictViterbiDT_RF(test, clfRF)[1])"
   ]
  },
  {
   "cell_type": "code",
   "execution_count": null,
   "metadata": {},
   "outputs": [],
   "source": []
  }
 ],
 "metadata": {
  "celltoolbar": "Raw Cell Format",
  "kernelspec": {
   "display_name": "Python 3",
   "language": "python",
   "name": "python3"
  },
  "language_info": {
   "codemirror_mode": {
    "name": "ipython",
    "version": 3
   },
   "file_extension": ".py",
   "mimetype": "text/x-python",
   "name": "python",
   "nbconvert_exporter": "python",
   "pygments_lexer": "ipython3",
   "version": "3.7.4"
  }
 },
 "nbformat": 4,
 "nbformat_minor": 2
}
